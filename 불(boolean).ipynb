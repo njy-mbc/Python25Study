{
  "nbformat": 4,
  "nbformat_minor": 0,
  "metadata": {
    "colab": {
      "provenance": [],
      "authorship_tag": "ABX9TyPeX3Minvpl5xryHkU8En+R",
      "include_colab_link": true
    },
    "kernelspec": {
      "name": "python3",
      "display_name": "Python 3"
    },
    "language_info": {
      "name": "python"
    }
  },
  "cells": [
    {
      "cell_type": "markdown",
      "metadata": {
        "id": "view-in-github",
        "colab_type": "text"
      },
      "source": [
        "<a href=\"https://colab.research.google.com/github/njy-mbc/Python25Study/blob/main/%EB%B6%88(boolean).ipynb\" target=\"_parent\"><img src=\"https://colab.research.google.com/assets/colab-badge.svg\" alt=\"Open In Colab\"/></a>"
      ]
    },
    {
      "cell_type": "code",
      "execution_count": 7,
      "metadata": {
        "colab": {
          "base_uri": "https://localhost:8080/"
        },
        "id": "jh7QB9KFDDsb",
        "outputId": "a4d023e4-57d6-4fb2-a8df-2947da1e1c25"
      },
      "outputs": [
        {
          "output_type": "stream",
          "name": "stdout",
          "text": [
            "<class 'bool'>\n",
            "<class 'bool'>\n",
            "True\n",
            "True\n",
            "False\n",
            "거짓\n",
            "거짓\n",
            "거짓\n",
            "참\n",
            "참\n",
            "참\n",
            "참\n"
          ]
        }
      ],
      "source": [
        "# 불 자료형\n",
        "\n",
        "a = True\n",
        "b = False\n",
        "\n",
        "print(type(a))\n",
        "print(type(b))\n",
        "\n",
        "print(1 == 1)\n",
        "print(2 > 1)\n",
        "print(2 < 1)\n",
        "\n",
        "a = [1,2,3,4,0,-1,-2]\n",
        "\n",
        "while a:\n",
        "  if(a.pop() > 0):\n",
        "    print(\"참\")\n",
        "  else:\n",
        "    print(\"거짓\")"
      ]
    },
    {
      "cell_type": "code",
      "source": [
        "# 논리 연산자\n",
        "print(True and True)\n",
        "print(True and False)\n",
        "print(False and True)\n",
        "print(False and False)\n",
        "\n",
        "# or 연산자\n",
        "print(True or True)\n",
        "print(True or False)\n",
        "print(False or True)\n",
        "print(False or False)\n",
        "\n",
        "# not 연산자\n",
        "print(not True)\n",
        "print(not False)\n",
        "print(not 1)\n",
        "print(not 0)"
      ],
      "metadata": {
        "colab": {
          "base_uri": "https://localhost:8080/"
        },
        "id": "dn1bwArkEXHj",
        "outputId": "bdca3178-8c37-4a52-ea2e-cff1e66db8ad"
      },
      "execution_count": 14,
      "outputs": [
        {
          "output_type": "stream",
          "name": "stdout",
          "text": [
            "True\n",
            "False\n",
            "False\n",
            "False\n",
            "True\n",
            "True\n",
            "True\n",
            "False\n",
            "False\n",
            "True\n",
            "False\n",
            "True\n"
          ]
        }
      ]
    },
    {
      "cell_type": "code",
      "source": [
        "x = 5\n",
        "y = 10\n",
        "\n",
        "result = x > 0 and y > 0\n",
        "print(result)\n",
        "\n",
        "result = x > 10 or y > 5\n",
        "print(result)\n",
        "\n",
        "result = not(x > y)\n",
        "print(result)"
      ],
      "metadata": {
        "colab": {
          "base_uri": "https://localhost:8080/"
        },
        "id": "Hm5A6Sr5E3Fr",
        "outputId": "3627ec56-f181-4466-f049-f65567dd3ae1"
      },
      "execution_count": 15,
      "outputs": [
        {
          "output_type": "stream",
          "name": "stdout",
          "text": [
            "True\n",
            "True\n",
            "True\n"
          ]
        }
      ]
    }
  ]
}
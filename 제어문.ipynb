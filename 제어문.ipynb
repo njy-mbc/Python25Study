{
  "nbformat": 4,
  "nbformat_minor": 0,
  "metadata": {
    "colab": {
      "provenance": [],
      "authorship_tag": "ABX9TyOXTbnDMedOcRBnjEhId7Iw",
      "include_colab_link": true
    },
    "kernelspec": {
      "name": "python3",
      "display_name": "Python 3"
    },
    "language_info": {
      "name": "python"
    }
  },
  "cells": [
    {
      "cell_type": "markdown",
      "metadata": {
        "id": "view-in-github",
        "colab_type": "text"
      },
      "source": [
        "<a href=\"https://colab.research.google.com/github/njy-mbc/Python25Study/blob/main/%EC%A0%9C%EC%96%B4%EB%AC%B8.ipynb\" target=\"_parent\"><img src=\"https://colab.research.google.com/assets/colab-badge.svg\" alt=\"Open In Colab\"/></a>"
      ]
    },
    {
      "cell_type": "code",
      "execution_count": null,
      "metadata": {
        "colab": {
          "base_uri": "https://localhost:8080/"
        },
        "id": "9FkLE8gWHjZo",
        "outputId": "4bbcdfaf-e9be-42d1-dd0f-ad448662e62d"
      },
      "outputs": [
        {
          "output_type": "stream",
          "name": "stdout",
          "text": [
            "택시를 타고 가라\n"
          ]
        }
      ],
      "source": [
        "# 제어문(if)\n",
        "\n",
        "money = True\n",
        "\n",
        "if money:\n",
        "  print(\"택시를 타고 가라\")\n",
        "else:\n",
        "  print(\"걸어가라\")"
      ]
    },
    {
      "cell_type": "code",
      "source": [
        "# 비교 연산자\n",
        "money = 2000\n",
        "\n",
        "if money >= 3000:\n",
        "  print(\"택시를 타고 가라\")\n",
        "else:\n",
        "  print(\"걸어가라\")\n"
      ],
      "metadata": {
        "colab": {
          "base_uri": "https://localhost:8080/"
        },
        "id": "KPgP14WFIO1q",
        "outputId": "1787c9e0-b3d2-4304-da86-3c3ffe095464"
      },
      "execution_count": null,
      "outputs": [
        {
          "output_type": "stream",
          "name": "stdout",
          "text": [
            "걸어가라\n"
          ]
        }
      ]
    },
    {
      "cell_type": "code",
      "source": [
        "# and, or, not\n",
        "\n",
        "money = 2000\n",
        "card = True\n",
        "\n",
        "if money >= 3000 or card:\n",
        "  print(\"택시를 타고 가라\")\n",
        "else:\n",
        "  print(\"걸어가라\")"
      ],
      "metadata": {
        "colab": {
          "base_uri": "https://localhost:8080/"
        },
        "id": "ssRi6b9vIkWa",
        "outputId": "51165869-ca3a-46a1-f807-d0fca1568842"
      },
      "execution_count": null,
      "outputs": [
        {
          "output_type": "stream",
          "name": "stdout",
          "text": [
            "택시를 타고 가라\n"
          ]
        }
      ]
    },
    {
      "cell_type": "code",
      "source": [
        "# in, not in\n",
        "pocket = ['paper', 'cellphone', 'money']\n",
        "if 'money' in pocket:\n",
        "  print(\"택시를 타고 가라\")\n",
        "else:\n",
        "  print(\"걸어가라\")\n",
        "\n",
        "if 'money' in pocket:\n",
        "  pass\n",
        "else:\n",
        "  print(\"걸어가라\")"
      ],
      "metadata": {
        "colab": {
          "base_uri": "https://localhost:8080/"
        },
        "id": "ALHwTcDIIvba",
        "outputId": "58e5bb5b-b587-44f8-c2ec-2ff8891f382f"
      },
      "execution_count": null,
      "outputs": [
        {
          "output_type": "stream",
          "name": "stdout",
          "text": [
            "택시를 타고 가라\n"
          ]
        }
      ]
    },
    {
      "cell_type": "code",
      "source": [
        "pocket = ['paper', 'cellphone']\n",
        "card = True\n",
        "\n",
        "if 'money' in pocket:\n",
        "  print(\"택시를 타고 가라\")\n",
        "elif card:\n",
        "  print(\"택시를 타고 가라\")\n",
        "else:\n",
        "  print(\"걸어가라\")"
      ],
      "metadata": {
        "colab": {
          "base_uri": "https://localhost:8080/"
        },
        "id": "zFYh0NjmNoY7",
        "outputId": "09692bbe-7c7e-40d0-d19c-ecb7b8277091"
      },
      "execution_count": null,
      "outputs": [
        {
          "output_type": "stream",
          "name": "stdout",
          "text": [
            "택시를 타고 가라\n"
          ]
        }
      ]
    },
    {
      "cell_type": "code",
      "source": [
        "# 제어문(while)\n",
        "\n",
        "hit = 0\n",
        "while hit < 10:\n",
        "  hit += 1\n",
        "  print(f\"나무를 {hit}번 찍었습니다\")\n",
        "  if(hit == 10):\n",
        "    print(\"나무가 넘어갑니다\")"
      ],
      "metadata": {
        "colab": {
          "base_uri": "https://localhost:8080/"
        },
        "id": "aLN3p6wuOP6z",
        "outputId": "d05c4000-8f71-4813-dc9b-eca1d580b044"
      },
      "execution_count": null,
      "outputs": [
        {
          "output_type": "stream",
          "name": "stdout",
          "text": [
            "나무를 1번 찍었습니다\n",
            "나무를 2번 찍었습니다\n",
            "나무를 3번 찍었습니다\n",
            "나무를 4번 찍었습니다\n",
            "나무를 5번 찍었습니다\n",
            "나무를 6번 찍었습니다\n",
            "나무를 7번 찍었습니다\n",
            "나무를 8번 찍었습니다\n",
            "나무를 9번 찍었습니다\n",
            "나무를 10번 찍었습니다\n",
            "나무가 넘어갑니다\n"
          ]
        }
      ]
    },
    {
      "cell_type": "code",
      "source": [
        "prompt = \"\"\"\n",
        "1. Add\n",
        "2. Del\n",
        "3. List\n",
        "4. Quit\n",
        "\n",
        "Enter number: \"\"\"\n",
        "\n",
        "num = 0\n",
        "\n",
        "while num != 4:\n",
        "  print(prompt)\n",
        "  num = int(input())"
      ],
      "metadata": {
        "colab": {
          "base_uri": "https://localhost:8080/"
        },
        "id": "P0byXTgAOabb",
        "outputId": "3a75abe0-3bf4-4384-88f0-1374b4500157"
      },
      "execution_count": null,
      "outputs": [
        {
          "name": "stdout",
          "output_type": "stream",
          "text": [
            "\n",
            "1. Add\n",
            "2. Del\n",
            "3. List\n",
            "4. Quit\n",
            "\n",
            "Enter number: \n",
            "6\n",
            "\n",
            "1. Add\n",
            "2. Del\n",
            "3. List\n",
            "4. Quit\n",
            "\n",
            "Enter number: \n",
            "1\n",
            "\n",
            "1. Add\n",
            "2. Del\n",
            "3. List\n",
            "4. Quit\n",
            "\n",
            "Enter number: \n",
            "4\n"
          ]
        }
      ]
    },
    {
      "cell_type": "code",
      "source": [
        "coffee_stock = 10\n",
        "money = 300\n",
        "\n",
        "while money:\n",
        "  print(\"커피가 나왔습니다\")\n",
        "  coffee_stock -= 1\n",
        "  print(f\"남은 커피는 {coffee_stock}잔 입니다\")\n",
        "  if coffee_stock == 0:\n",
        "    print(\"커피 재고가 없습니다. 판매를 종료합니다\")\n",
        "    break"
      ],
      "metadata": {
        "colab": {
          "base_uri": "https://localhost:8080/"
        },
        "id": "Z3fon6O0PEaz",
        "outputId": "a7ab4127-89a7-47d6-c223-0c5f2234cd18"
      },
      "execution_count": null,
      "outputs": [
        {
          "output_type": "stream",
          "name": "stdout",
          "text": [
            "커피가 나왔습니다\n",
            "남은 커피는 9잔 입니다\n",
            "커피가 나왔습니다\n",
            "남은 커피는 8잔 입니다\n",
            "커피가 나왔습니다\n",
            "남은 커피는 7잔 입니다\n",
            "커피가 나왔습니다\n",
            "남은 커피는 6잔 입니다\n",
            "커피가 나왔습니다\n",
            "남은 커피는 5잔 입니다\n",
            "커피가 나왔습니다\n",
            "남은 커피는 4잔 입니다\n",
            "커피가 나왔습니다\n",
            "남은 커피는 3잔 입니다\n",
            "커피가 나왔습니다\n",
            "남은 커피는 2잔 입니다\n",
            "커피가 나왔습니다\n",
            "남은 커피는 1잔 입니다\n",
            "커피가 나왔습니다\n",
            "남은 커피는 0잔 입니다\n",
            "커피 재고가 없습니다. 판매를 종료합니다\n"
          ]
        }
      ]
    },
    {
      "cell_type": "code",
      "source": [
        "stock = 2\n",
        "money = 0\n",
        "\n",
        "while True:\n",
        "  if stock == 0:\n",
        "    print(\"재고가 소진되었습니다. 판매를 종료합니다\")\n",
        "    break\n",
        "\n",
        "  if money == 0 or money < 300:\n",
        "    money += int(input(f\"돈을 넣어주세요(잔액:{money}) : \"))\n",
        "\n",
        "  if money >= 300 and stock > 0:\n",
        "    print(\"커피가 나왔습니다\")\n",
        "    money -= 300\n",
        "    stock -= 1\n",
        "    print(f\"재고 : {stock}\\n\")\n"
      ],
      "metadata": {
        "colab": {
          "base_uri": "https://localhost:8080/"
        },
        "id": "nZMHqma2QKgb",
        "outputId": "67ef7826-836d-40b8-d876-0c0f93add04d"
      },
      "execution_count": null,
      "outputs": [
        {
          "output_type": "stream",
          "name": "stdout",
          "text": [
            "돈을 넣어주세요(잔액:0) : 300\n",
            "커피가 나왔습니다\n",
            "재고 : 1\n",
            "돈을 넣어주세요(잔액:0) : 300\n",
            "커피가 나왔습니다\n",
            "재고 : 0\n",
            "재고가 소진되었습니다. 판매를 종료합니다\n"
          ]
        }
      ]
    },
    {
      "cell_type": "code",
      "source": [
        "a = 0\n",
        "\n",
        "while a < 10:\n",
        "  a += 1\n",
        "  if a % 2 == 0: continue\n",
        "  print(a)"
      ],
      "metadata": {
        "colab": {
          "base_uri": "https://localhost:8080/"
        },
        "id": "xZkPmnJMSFY0",
        "outputId": "6f2a2394-80d1-468c-d34f-1051de58867b"
      },
      "execution_count": null,
      "outputs": [
        {
          "output_type": "stream",
          "name": "stdout",
          "text": [
            "1\n",
            "3\n",
            "5\n",
            "7\n",
            "9\n"
          ]
        }
      ]
    },
    {
      "cell_type": "code",
      "source": [
        "count = 0\n",
        "limit = 10\n",
        "\n",
        "while count < limit:\n",
        "  print(f\"count : {count}\")\n",
        "  count += 1\n",
        "else:\n",
        "  print(\"while문이 종료되었습니다\")"
      ],
      "metadata": {
        "colab": {
          "base_uri": "https://localhost:8080/"
        },
        "id": "6ke4P2XESyWs",
        "outputId": "fb476d2e-dbae-4894-8b68-170a9443cb50"
      },
      "execution_count": null,
      "outputs": [
        {
          "output_type": "stream",
          "name": "stdout",
          "text": [
            "count : 0\n",
            "count : 1\n",
            "count : 2\n",
            "count : 3\n",
            "count : 4\n",
            "count : 5\n",
            "count : 6\n",
            "count : 7\n",
            "count : 8\n",
            "count : 9\n",
            "while문이 종료되었습니다\n"
          ]
        }
      ]
    },
    {
      "cell_type": "code",
      "source": [
        "i = 1\n",
        "\n",
        "while i <= 3:\n",
        "  j = 1\n",
        "  while j <= 3:\n",
        "    print(f\"i = {i}, j = {j}\")\n",
        "    j += 1\n",
        "  i += 1"
      ],
      "metadata": {
        "colab": {
          "base_uri": "https://localhost:8080/"
        },
        "id": "jdVWPkuJTH3j",
        "outputId": "9d5a744a-e219-429f-ffd2-bbfc7e658eea"
      },
      "execution_count": null,
      "outputs": [
        {
          "output_type": "stream",
          "name": "stdout",
          "text": [
            "i = 1, j = 1\n",
            "i = 1, j = 2\n",
            "i = 1, j = 3\n",
            "i = 2, j = 1\n",
            "i = 2, j = 2\n",
            "i = 2, j = 3\n",
            "i = 3, j = 1\n",
            "i = 3, j = 2\n",
            "i = 3, j = 3\n"
          ]
        }
      ]
    },
    {
      "cell_type": "code",
      "source": [
        "# 제어문(for)\n",
        "\n",
        "lst = ['one', 'two', 'three']\n",
        "\n",
        "for str in lst:\n",
        "  print(str)"
      ],
      "metadata": {
        "id": "l3RsA1r1Tfis",
        "colab": {
          "base_uri": "https://localhost:8080/"
        },
        "outputId": "2468df02-ab40-477e-e4a3-d06e3dbed584"
      },
      "execution_count": 1,
      "outputs": [
        {
          "output_type": "stream",
          "name": "stdout",
          "text": [
            "one\n",
            "two\n",
            "three\n"
          ]
        }
      ]
    },
    {
      "cell_type": "code",
      "source": [
        "a = [(1,2), (3,4), (5,6)]\n",
        "for (first, last) in a:\n",
        "  print(first + last)"
      ],
      "metadata": {
        "colab": {
          "base_uri": "https://localhost:8080/"
        },
        "id": "Veu1s8y3xXTn",
        "outputId": "3d7292c4-a985-4681-d7c2-3726ec5cea7e"
      },
      "execution_count": 4,
      "outputs": [
        {
          "output_type": "stream",
          "name": "stdout",
          "text": [
            "3\n",
            "7\n",
            "11\n"
          ]
        }
      ]
    },
    {
      "cell_type": "code",
      "source": [
        "marks = [90, 25, 67, 45, 80]\n",
        "\n",
        "number = 0\n",
        "\n",
        "for mark in marks:\n",
        "  number = number + 1\n",
        "  if mark >= 60:\n",
        "    print(\"%d번 학생은 합격입니다,\" % number)\n",
        "  else:\n",
        "    print(\"%d번 학생은 불합격입니다,\" % number)"
      ],
      "metadata": {
        "colab": {
          "base_uri": "https://localhost:8080/"
        },
        "id": "YOzCJ4nrxrgH",
        "outputId": "4a675e1c-3050-484c-adbe-476cd645d978"
      },
      "execution_count": 6,
      "outputs": [
        {
          "output_type": "stream",
          "name": "stdout",
          "text": [
            "1번 학생은 합격입니다,\n",
            "2번 학생은 불합격입니다,\n",
            "3번 학생은 합격입니다,\n",
            "4번 학생은 불합격입니다,\n",
            "5번 학생은 합격입니다,\n"
          ]
        }
      ]
    },
    {
      "cell_type": "code",
      "source": [
        "marks = [90, 25, 67, 45, 80]\n",
        "\n",
        "number = 0\n",
        "\n",
        "for mark in marks:\n",
        "  number = number + 1\n",
        "  if mark < 60:\n",
        "    continue\n",
        "  print(\"%d번 학생 축하합니다. 합격입니다\" % number)"
      ],
      "metadata": {
        "colab": {
          "base_uri": "https://localhost:8080/"
        },
        "id": "i2UHaQN7yL7X",
        "outputId": "66e7b5c5-267d-4181-dcd5-4db866855afd"
      },
      "execution_count": 7,
      "outputs": [
        {
          "output_type": "stream",
          "name": "stdout",
          "text": [
            "1번 학생 축하합니다. 합격입니다\n",
            "3번 학생 축하합니다. 합격입니다\n",
            "5번 학생 축하합니다. 합격입니다\n"
          ]
        }
      ]
    },
    {
      "cell_type": "code",
      "source": [
        "# range for문\n",
        "\n",
        "sum = 0\n",
        "\n",
        "for i in range(1, 11):\n",
        "  sum += i\n",
        "\n",
        "print(sum)"
      ],
      "metadata": {
        "colab": {
          "base_uri": "https://localhost:8080/"
        },
        "id": "LfsoMRkXyjaf",
        "outputId": "c1bd4862-f268-41ce-e0ef-4b4214be1797"
      },
      "execution_count": 10,
      "outputs": [
        {
          "output_type": "stream",
          "name": "stdout",
          "text": [
            "55\n"
          ]
        }
      ]
    },
    {
      "cell_type": "code",
      "source": [
        "marks = [90, 25, 67, 45, 80]\n",
        "for number in range(len(marks)):\n",
        "  if marks[number] < 60:\n",
        "    continue\n",
        "  print(f\"{number + 1}번 학생 축하합니다. 합격입니다\")"
      ],
      "metadata": {
        "colab": {
          "base_uri": "https://localhost:8080/"
        },
        "id": "LixH_DTWzAmP",
        "outputId": "543082e2-30e2-4188-8aae-8104fb8aa57e"
      },
      "execution_count": 11,
      "outputs": [
        {
          "output_type": "stream",
          "name": "stdout",
          "text": [
            "1번 학생 축하합니다. 합격입니다\n",
            "3번 학생 축하합니다. 합격입니다\n",
            "5번 학생 축하합니다. 합격입니다\n"
          ]
        }
      ]
    },
    {
      "cell_type": "code",
      "source": [
        "for i in range(2, 10):\n",
        "  for j in range(1, 10):\n",
        "    print(i*j, end=\" \")\n",
        "  print('')"
      ],
      "metadata": {
        "colab": {
          "base_uri": "https://localhost:8080/"
        },
        "id": "Uo17VeCUzfOv",
        "outputId": "06252919-9bac-4a25-b84b-4eecd0c8f31a"
      },
      "execution_count": 12,
      "outputs": [
        {
          "output_type": "stream",
          "name": "stdout",
          "text": [
            "2 4 6 8 10 12 14 16 18 \n",
            "3 6 9 12 15 18 21 24 27 \n",
            "4 8 12 16 20 24 28 32 36 \n",
            "5 10 15 20 25 30 35 40 45 \n",
            "6 12 18 24 30 36 42 48 54 \n",
            "7 14 21 28 35 42 49 56 63 \n",
            "8 16 24 32 40 48 56 64 72 \n",
            "9 18 27 36 45 54 63 72 81 \n"
          ]
        }
      ]
    },
    {
      "cell_type": "code",
      "source": [
        "a = [1,2,3,4]\n",
        "result = []\n",
        "\n",
        "for num in a:\n",
        "  result.append(num * 3)\n",
        "\n",
        "print(result)"
      ],
      "metadata": {
        "colab": {
          "base_uri": "https://localhost:8080/"
        },
        "id": "cwoCI_HP1gqF",
        "outputId": "8c1feeeb-4f44-4a26-f063-8abebb75c848"
      },
      "execution_count": 13,
      "outputs": [
        {
          "output_type": "stream",
          "name": "stdout",
          "text": [
            "[3, 6, 9, 12]\n"
          ]
        }
      ]
    },
    {
      "cell_type": "code",
      "source": [
        "for i in range(0, 10):\n",
        "  if i == 5:\n",
        "    break;\n",
        "  print(i)"
      ],
      "metadata": {
        "colab": {
          "base_uri": "https://localhost:8080/"
        },
        "id": "0CgeY4Tb1t01",
        "outputId": "dd4f58ae-bb84-4541-ffa6-b8b9cb4324c9"
      },
      "execution_count": 15,
      "outputs": [
        {
          "output_type": "stream",
          "name": "stdout",
          "text": [
            "0\n",
            "1\n",
            "2\n",
            "3\n",
            "4\n"
          ]
        }
      ]
    },
    {
      "cell_type": "code",
      "source": [
        "for i in range(1, 10):\n",
        "    print(i)\n",
        "else:\n",
        "  print(\"정상종료 되었습니다\")"
      ],
      "metadata": {
        "colab": {
          "base_uri": "https://localhost:8080/"
        },
        "id": "MPqYatyf18w9",
        "outputId": "c8d06d31-05ab-4e00-e20b-7c4af11083b4"
      },
      "execution_count": 17,
      "outputs": [
        {
          "output_type": "stream",
          "name": "stdout",
          "text": [
            "1\n",
            "2\n",
            "3\n",
            "4\n",
            "5\n",
            "6\n",
            "7\n",
            "8\n",
            "9\n",
            "정상종료 되었습니다\n"
          ]
        }
      ]
    },
    {
      "cell_type": "code",
      "source": [
        "fruits = ['apple', 'banana', 'orange']\n",
        "for i, fruit in enumerate(fruits):\n",
        "  print(f\"{i}: {fruit}\")"
      ],
      "metadata": {
        "colab": {
          "base_uri": "https://localhost:8080/"
        },
        "id": "AbvB7Ax41_ct",
        "outputId": "9f296661-bdd8-45f5-fedc-5f8a3044cd87"
      },
      "execution_count": 18,
      "outputs": [
        {
          "output_type": "stream",
          "name": "stdout",
          "text": [
            "0: apple\n",
            "1: banana\n",
            "2: orange\n"
          ]
        }
      ]
    },
    {
      "cell_type": "code",
      "source": [
        "names = ['홍길동', '김철수', '이영희']\n",
        "scores = [85, 92, 78]\n",
        "\n",
        "for name, score in zip(names, scores):\n",
        "  print(f\"{name} : {score}점\")"
      ],
      "metadata": {
        "colab": {
          "base_uri": "https://localhost:8080/"
        },
        "id": "WyqRHQEY2jS1",
        "outputId": "dc0405cc-2101-46f4-f9eb-2099cf08e76d"
      },
      "execution_count": 20,
      "outputs": [
        {
          "output_type": "stream",
          "name": "stdout",
          "text": [
            "홍길동 : 85점\n",
            "김철수 : 92점\n",
            "이영희 : 78점\n"
          ]
        }
      ]
    },
    {
      "cell_type": "code",
      "source": [
        "names = ['홍길동', '김철수', '이영희']\n",
        "scores = [85, 92, 78]\n",
        "english = [90, 88, 95]\n",
        "\n",
        "for name, score, eng in zip(names, scores, english):\n",
        "  print(f\"{name} : 국어 {score}점, 영어 {eng}점\")"
      ],
      "metadata": {
        "colab": {
          "base_uri": "https://localhost:8080/"
        },
        "id": "ZLe3V2p_24em",
        "outputId": "8c3946d3-5fb6-4b5d-c7f0-46550e763686"
      },
      "execution_count": 22,
      "outputs": [
        {
          "output_type": "stream",
          "name": "stdout",
          "text": [
            "홍길동 : 국어 85점, 영어 90점\n",
            "김철수 : 국어 92점, 영어 88점\n",
            "이영희 : 국어 78점, 영어 95점\n"
          ]
        }
      ]
    }
  ]
}
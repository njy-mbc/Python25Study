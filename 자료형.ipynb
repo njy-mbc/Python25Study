{
  "nbformat": 4,
  "nbformat_minor": 0,
  "metadata": {
    "colab": {
      "provenance": [],
      "authorship_tag": "ABX9TyN4edz//1wFjwa2DYxwT6RE",
      "include_colab_link": true
    },
    "kernelspec": {
      "name": "python3",
      "display_name": "Python 3"
    },
    "language_info": {
      "name": "python"
    }
  },
  "cells": [
    {
      "cell_type": "markdown",
      "metadata": {
        "id": "view-in-github",
        "colab_type": "text"
      },
      "source": [
        "<a href=\"https://colab.research.google.com/github/njy-mbc/Python25Study/blob/main/%EC%9E%90%EB%A3%8C%ED%98%95.ipynb\" target=\"_parent\"><img src=\"https://colab.research.google.com/assets/colab-badge.svg\" alt=\"Open In Colab\"/></a>"
      ]
    },
    {
      "cell_type": "code",
      "source": [
        "# 숫자형\n",
        "# Number타입 : 정수, 실수, 8진수, 16진수, 2진수 등을 표현한다\n",
        "\n",
        "a = 123\n",
        "print(a)"
      ],
      "metadata": {
        "colab": {
          "base_uri": "https://localhost:8080/"
        },
        "id": "vPOokcMCyxO9",
        "outputId": "82ccd826-b92c-4c74-ca57-efd0275a215b"
      },
      "execution_count": 1,
      "outputs": [
        {
          "output_type": "stream",
          "name": "stdout",
          "text": [
            "123\n"
          ]
        }
      ]
    },
    {
      "cell_type": "code",
      "source": [
        "# 정수형\n",
        "a = 123\n",
        "\n",
        "print(a)\n",
        "\n",
        "a = -178\n",
        "\n",
        "print(a)\n",
        "\n",
        "a = 0\n",
        "\n",
        "print(a)"
      ],
      "metadata": {
        "colab": {
          "base_uri": "https://localhost:8080/"
        },
        "id": "CWey3Wnt4tX4",
        "outputId": "3032a053-b071-4c00-c3ad-2da80f10886b"
      },
      "execution_count": 3,
      "outputs": [
        {
          "output_type": "stream",
          "name": "stdout",
          "text": [
            "123\n",
            "-178\n",
            "0\n"
          ]
        }
      ]
    },
    {
      "cell_type": "code",
      "source": [
        "#실수형\n",
        "\n",
        "a = 1.2\n",
        "\n",
        "print(a)\n",
        "\n",
        "a = -3.45\n",
        "\n",
        "print(a)\n",
        "\n",
        "a = 4.24E10\n",
        "\n",
        "print(a)\n",
        "\n",
        "a = 4.24e-10\n",
        "\n",
        "print(a)"
      ],
      "metadata": {
        "colab": {
          "base_uri": "https://localhost:8080/"
        },
        "id": "mityn6mI40SV",
        "outputId": "ff54a8f9-05ae-4bf8-f3d3-db6c99ef4d96"
      },
      "execution_count": 5,
      "outputs": [
        {
          "output_type": "stream",
          "name": "stdout",
          "text": [
            "1.2\n",
            "-3.45\n",
            "42400000000.0\n",
            "4.24e-10\n"
          ]
        }
      ]
    },
    {
      "cell_type": "code",
      "source": [
        "# 8진수, 16진수\n",
        "\n",
        "a = 0o177\n",
        "\n",
        "print(a)\n",
        "\n",
        "a = 0x8ff\n",
        "b = 0xABC\n",
        "\n",
        "print(a)\n",
        "print(b)"
      ],
      "metadata": {
        "colab": {
          "base_uri": "https://localhost:8080/"
        },
        "id": "2VQKKmJo5Czf",
        "outputId": "af6d7a9f-acee-45e7-b098-a04d791a98e0"
      },
      "execution_count": 8,
      "outputs": [
        {
          "output_type": "stream",
          "name": "stdout",
          "text": [
            "127\n",
            "2303\n",
            "2748\n"
          ]
        }
      ]
    },
    {
      "cell_type": "code",
      "source": [
        "# 사칙연산\n",
        "\n",
        "a = 3\n",
        "b = 4\n",
        "\n",
        "print(a + b)\n",
        "print(a - b)\n",
        "print(a * b)\n",
        "print(a / b)\n",
        "\n",
        "# 제곱\n",
        "\n",
        "print(a ** b)\n",
        "\n",
        "# 나머지\n",
        "\n",
        "print(7 % 3)\n",
        "print(3 % 7)\n",
        "\n",
        "# 몫(나눗셈)\n",
        "print(7 // 4)\n",
        "\n",
        "# 복합 연산자\n",
        "a = 1\n",
        "\n",
        "a += 1\n",
        "print(a)\n",
        "\n",
        "a *= 2\n",
        "print(a)"
      ],
      "metadata": {
        "colab": {
          "base_uri": "https://localhost:8080/"
        },
        "id": "i-TLqcn85Q-t",
        "outputId": "57fd444b-6051-4fa4-a0e0-abcb8ba8ea60"
      },
      "execution_count": 20,
      "outputs": [
        {
          "output_type": "stream",
          "name": "stdout",
          "text": [
            "7\n",
            "-1\n",
            "12\n",
            "0.75\n",
            "81\n",
            "1\n",
            "3\n",
            "1\n",
            "2\n",
            "4\n"
          ]
        }
      ]
    },
    {
      "cell_type": "code",
      "source": [
        "# 문자열\n",
        "\n",
        "food = \"Python's favorite food is perl\"\n",
        "\n",
        "say = '\"Python is very easy. \" he says.'\n",
        "\n",
        "print(say)\n",
        "\n",
        "food = 'Python\\'s favorite food is perl'\n",
        "print(food)\n",
        "say = \"\\\"Python is very easy. \\\" he says\"\n",
        "print(say)\n",
        "\n",
        "# 이스케이프 코드(\\n)\n",
        "multiline = \"\\nLife is too short\\nYou need python\"\n",
        "\n",
        "print(multiline)\n",
        "\n",
        "head = \"Python\"\n",
        "tail = \" is fun!\"\n",
        "print(head + tail)\n",
        "\n",
        "print(head * 16)\n",
        "\n",
        "print(\"=\" * 50)\n",
        "print(\"My script\")\n",
        "print(\"=\" * 50)\n",
        "\n",
        "a = \"Life is too short\"\n",
        "len(a)"
      ],
      "metadata": {
        "colab": {
          "base_uri": "https://localhost:8080/"
        },
        "id": "XPijpIRv6BOX",
        "outputId": "a2f7cc85-6839-4968-82e6-ee63d28920ee"
      },
      "execution_count": 42,
      "outputs": [
        {
          "output_type": "stream",
          "name": "stdout",
          "text": [
            "\"Python is very easy. \" he says.\n",
            "Python's favorite food is perl\n",
            "\"Python is very easy. \" he says\n",
            "\n",
            "Life is too short\n",
            "You need python\n",
            "Python is fun!\n",
            "PythonPythonPythonPythonPythonPythonPythonPythonPythonPythonPythonPythonPythonPythonPythonPython\n",
            "==================================================\n",
            "My script\n",
            "==================================================\n"
          ]
        },
        {
          "output_type": "execute_result",
          "data": {
            "text/plain": [
              "17"
            ]
          },
          "metadata": {},
          "execution_count": 42
        }
      ]
    },
    {
      "cell_type": "code",
      "source": [
        "# 문자열 인덱싱\n",
        "\n",
        "a = \"Life is too short, You need Python\"\n",
        "print(a[3])\n",
        "\n",
        "print(a[-1])\n",
        "print(a[12])\n",
        "print(a[0])\n",
        "\n",
        "# 문자열 슬라이싱\n",
        "\n",
        "b = a[0] + a[1] + a[2] + a[3]\n",
        "print(b)\n",
        "\n",
        "print(a[0:4])\n",
        "print(a[0:5])\n",
        "\n",
        "print(a[9:])\n",
        "print(a[:9])\n",
        "\n",
        "a[:]\n",
        "\n",
        "# 슬라이싱으로 문자열 나누기\n",
        "\n",
        "d = \"20230331Rainy\"\n",
        "date = d[:8]\n",
        "weather = d[8:]\n",
        "print(date)\n",
        "print(weather)\n",
        "\n",
        "year = d[:4]\n",
        "day = d[4:8]\n",
        "weather = d[8:]\n",
        "\n",
        "print(year)\n",
        "print(day)\n",
        "print(weather)\n",
        "\n",
        "a = \"Pithon\"\n",
        "a[:1] + 'y' + a[2:]"
      ],
      "metadata": {
        "colab": {
          "base_uri": "https://localhost:8080/",
          "height": 292
        },
        "id": "Af8VygCx8N0m",
        "outputId": "c35d310f-7f8d-4a98-b01f-b2801229a979"
      },
      "execution_count": 60,
      "outputs": [
        {
          "output_type": "stream",
          "name": "stdout",
          "text": [
            "e\n",
            "n\n",
            "s\n",
            "L\n",
            "Life\n",
            "Life\n",
            "Life \n",
            "oo short, You need Python\n",
            "Life is t\n",
            "20230331\n",
            "Rainy\n",
            "2023\n",
            "0331\n",
            "Rainy\n"
          ]
        },
        {
          "output_type": "execute_result",
          "data": {
            "text/plain": [
              "'Python'"
            ],
            "application/vnd.google.colaboratory.intrinsic+json": {
              "type": "string"
            }
          },
          "metadata": {},
          "execution_count": 60
        }
      ]
    },
    {
      "cell_type": "code",
      "source": [
        "# 문자열 포매팅\n",
        "\n",
        "str = \"현재 온도는 %d도 입니다\" % 20\n",
        "print(str)\n",
        "\n",
        "tmp = 30\n",
        "str =   \"현재 온도는 %d도 입니다\" % tmp\n",
        "print(str)\n",
        "\n",
        "numbers = 3\n",
        "days = 10\n",
        "str = \"사과를 %d개 먹고 %d일간 아팟다\" % (numbers, days)\n",
        "print(str)\n",
        "\n",
        "str = \"rate is %f\" % 3.192848\n",
        "print(str)\n",
        "\n",
        "str = \"rate is %s\" % 3.192848\n",
        "print(str)"
      ],
      "metadata": {
        "colab": {
          "base_uri": "https://localhost:8080/"
        },
        "id": "0KGONMil_6po",
        "outputId": "d5ddfc65-4cde-4005-da51-5f530cee9c61"
      },
      "execution_count": 66,
      "outputs": [
        {
          "output_type": "stream",
          "name": "stdout",
          "text": [
            "현재 온도는 20도 입니다\n",
            "현재 온도는 30도 입니다\n",
            "사과를 3개 먹고 10일간 아팟다\n",
            "rate is 3.192848\n",
            "rate is 3.192848\n"
          ]
        }
      ]
    },
    {
      "cell_type": "code",
      "source": [
        "str = \"%10s\" % \"hi\"\n",
        "print(str)\n",
        "\n",
        "str = \"%-10sjane\" % \"hi\"\n",
        "print(str)\n",
        "\n",
        "# 소수점 표현\n",
        "str = \"%0.4f\" % 3.434343\n",
        "print(str)\n",
        "\n",
        "str = \"%10.4f\" % 3.434343\n",
        "print(str)\n",
        "\n",
        "# format 함수를 사용한 포매팅\n",
        "str = \"I ate {0} apples\".format(5)\n",
        "print(str)\n",
        "\n",
        "str = \"I ate {0} apples\".format(\"five\")\n",
        "print(str)\n",
        "\n",
        "number = 10\n",
        "str = \"I ate {0} apples\".format(number)\n",
        "print(str)\n",
        "\n",
        "number = 10\n",
        "day = \"three\"\n",
        "str = \"I ate {0} apples. so I was sick for {1} days\".format(numbers, day)\n",
        "print(str)\n",
        "\n",
        "str = \"I ate {number} apples. so I was sick for {day} days\".format(number = 10, day = 3)\n",
        "print(str)\n",
        "\n",
        "print(\"{0:<10}\".format(\"hi\"))\n",
        "print(\"{0:>10}\".format(\"hi\"))\n",
        "print(\"{0:^10}\".format(\"hi\"))\n",
        "\n",
        "print(\"{0:=^10}\".format(\"hi\"))\n",
        "print(\"{0:!>10}\".format(\"hi\"))\n",
        "\n",
        "# 소수점 표현하기\n",
        "y = 3.4213423\n",
        "\"{0:0.4f}\".format(y)\n",
        "\n",
        "name = '홍길동'\n",
        "age = 30\n",
        "print(f'나의 이름은 {name}입니다. 나이는 {age}입니다')\n",
        "print(f'내년이면 {age + 1}살이 됩니다')\n",
        "\n",
        "d = {'name':'간장', 'age':60}\n",
        "print(f'나의 이름은 {d[\"name\"]}입니다. 나이는 {d[\"age\"]}입니다')\n",
        "\n",
        "# 정렬\n",
        "print(f'{\"hi\":<10}')\n",
        "print(f'{\"hi\":>10}')\n",
        "print(f'{\"hi\":^10}')\n",
        "\n",
        "print(f\"난 {1500000:,}원이 필요해\")"
      ],
      "metadata": {
        "colab": {
          "base_uri": "https://localhost:8080/"
        },
        "id": "A3EiIyY5BwuA",
        "outputId": "a323a9a7-9de0-4d3b-f0d5-f542f4672879"
      },
      "execution_count": 95,
      "outputs": [
        {
          "output_type": "stream",
          "name": "stdout",
          "text": [
            "        hi\n",
            "hi        jane\n",
            "3.4343\n",
            "    3.4343\n",
            "I ate 5 apples\n",
            "I ate five apples\n",
            "I ate 10 apples\n",
            "I ate 3 apples. so I was sick for three days\n",
            "I ate 10 apples. so I was sick for 3 days\n",
            "hi        \n",
            "        hi\n",
            "    hi    \n",
            "====hi====\n",
            "!!!!!!!!hi\n",
            "나의 이름은 홍길동입니다. 나이는 30입니다\n",
            "내년이면 31살이 됩니다\n",
            "나의 이름은 간장입니다. 나이는 60입니다\n",
            "hi        \n",
            "        hi\n",
            "    hi    \n",
            "난 1,500,000원이 필요해\n"
          ]
        }
      ]
    },
    {
      "cell_type": "code",
      "source": [
        "# 문자열 관련 함수들\n",
        "\n",
        "a = \"hobby\"\n",
        "print(a.count('b'))\n",
        "\n",
        "a = \"Python is the best choice\"\n",
        "print(a.find('b'))\n",
        "print(a.find('choice'))\n",
        "\n",
        "a = \"Life is too short\"\n",
        "a.index('t')\n",
        "\n",
        "# 문자열 삽입\n",
        "print(\",\".join('acdc'))\n",
        "\n",
        "# 소문자 -> 대문자\n",
        "a = \"hi\"\n",
        "print(a.upper())\n",
        "\n",
        "# 대문자 -> 소문자\n",
        "a = \"HI\"\n",
        "print(a.lower())\n",
        "\n",
        "# 왼쪽 공백 지우기\n",
        "a = \"     a     \"\n",
        "print(a.lstrip())\n",
        "\n",
        "# 오른쪽 공백 지우기\n",
        "a = \"   b   \"\n",
        "print(a.strip())\n",
        "\n",
        "# 문자열 바꾸기\n",
        "\n",
        "a = \"Life is too short\"\n",
        "a.replace(\"Life\", \"Your dick\")\n",
        "\n",
        "# 문자열 나누기\n",
        "a = \"Life is too short\"\n",
        "a.split()\n",
        "\n",
        "b = \"a,c,d,c\"\n",
        "b.split(',')\n",
        "\n",
        "# 특정 문자열 시작\n",
        "s = \"Life is too short\"\n",
        "print(s.startswith(\"Life\"))\n",
        "\n",
        "# 특정 문자열 끝\n",
        "print(s.endswith(\"short\"))\n",
        "print(s.endswith(\"Life\"))"
      ],
      "metadata": {
        "colab": {
          "base_uri": "https://localhost:8080/"
        },
        "id": "PuNdc6I3IOQ5",
        "outputId": "dc2bb765-69b4-456e-a67e-b7499828fa03"
      },
      "execution_count": 115,
      "outputs": [
        {
          "output_type": "stream",
          "name": "stdout",
          "text": [
            "2\n",
            "14\n",
            "19\n",
            "a,c,d,c\n",
            "HI\n",
            "hi\n",
            "a     \n",
            "b\n",
            "True\n",
            "True\n",
            "False\n"
          ]
        }
      ]
    },
    {
      "cell_type": "code",
      "source": [
        "# 리스트 자료형\n",
        "\n",
        "odd = [1,3,5,7,9]\n",
        "\n",
        "odd\n",
        "\n",
        "# 리스트 인덱싱\n",
        "a = [1,2,3]\n",
        "print(a[0] + a[2])\n",
        "\n",
        "a = [1,2,3, ['a', 'b', 'c']]\n",
        "print(a)\n",
        "a[3]\n",
        "\n",
        "# 리스트 슬라이싱\n",
        "a = [1,2,3,4,5]\n",
        "b = a[:2]\n",
        "c = a[2:]\n",
        "\n",
        "a = [1,2,3]\n",
        "b = [4,5,6]\n",
        "print((a + b) * 3)\n",
        "\n"
      ],
      "metadata": {
        "colab": {
          "base_uri": "https://localhost:8080/"
        },
        "id": "Cj1EiP_BPY6y",
        "outputId": "bb979f4a-b6f1-4bd6-a795-a593f2abd183"
      },
      "execution_count": 132,
      "outputs": [
        {
          "output_type": "stream",
          "name": "stdout",
          "text": [
            "4\n",
            "[1, 2, 3, ['a', 'b', 'c']]\n",
            "[1, 2, 3, 4, 5, 6, 1, 2, 3, 4, 5, 6, 1, 2, 3, 4, 5, 6]\n"
          ]
        }
      ]
    }
  ]
}
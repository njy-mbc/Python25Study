{
  "nbformat": 4,
  "nbformat_minor": 0,
  "metadata": {
    "colab": {
      "provenance": [],
      "authorship_tag": "ABX9TyMchTooJupS61mqDyW13J8t",
      "include_colab_link": true
    },
    "kernelspec": {
      "name": "python3",
      "display_name": "Python 3"
    },
    "language_info": {
      "name": "python"
    }
  },
  "cells": [
    {
      "cell_type": "markdown",
      "metadata": {
        "id": "view-in-github",
        "colab_type": "text"
      },
      "source": [
        "<a href=\"https://colab.research.google.com/github/njy-mbc/Python25Study/blob/main/%EC%82%AC%EC%9A%A9%EC%9E%90_%EC%9E%85%EC%B6%9C%EB%A0%A5.ipynb\" target=\"_parent\"><img src=\"https://colab.research.google.com/assets/colab-badge.svg\" alt=\"Open In Colab\"/></a>"
      ]
    },
    {
      "cell_type": "code",
      "execution_count": 2,
      "metadata": {
        "colab": {
          "base_uri": "https://localhost:8080/"
        },
        "id": "qDJaSFuXX97K",
        "outputId": "e801c774-57e9-46ea-e684-d46988873813"
      },
      "outputs": [
        {
          "output_type": "stream",
          "name": "stdout",
          "text": [
            "Life is too short, you need python\n",
            "Life is too short, you need python\n"
          ]
        }
      ],
      "source": [
        "# 사용자 입출력\n",
        "\n",
        "a = input()\n",
        "\n",
        "print(a)"
      ]
    },
    {
      "cell_type": "code",
      "source": [
        "str = input(\"숫자를 입력하세요 : \")\n",
        "\n",
        "print(str)\n",
        "type(str)"
      ],
      "metadata": {
        "colab": {
          "base_uri": "https://localhost:8080/"
        },
        "id": "fRRYegWcYsXD",
        "outputId": "4b6c85c0-a459-46d7-8bb5-3a9038e3a105"
      },
      "execution_count": 4,
      "outputs": [
        {
          "output_type": "stream",
          "name": "stdout",
          "text": [
            "숫자를 입력하세요 : 60\n",
            "60\n"
          ]
        },
        {
          "output_type": "execute_result",
          "data": {
            "text/plain": [
              "str"
            ]
          },
          "metadata": {},
          "execution_count": 4
        }
      ]
    },
    {
      "cell_type": "code",
      "source": [
        "age = input(\"나이를 입력하세요 : \")\n",
        "\n",
        "age = int(age)\n",
        "print(age + 1)"
      ],
      "metadata": {
        "colab": {
          "base_uri": "https://localhost:8080/"
        },
        "id": "kQNzippsY13T",
        "outputId": "c9f0505b-b417-42f7-aceb-fb281000af2d"
      },
      "execution_count": 6,
      "outputs": [
        {
          "output_type": "stream",
          "name": "stdout",
          "text": [
            "나이를 입력하세요 : 60\n",
            "61\n"
          ]
        }
      ]
    },
    {
      "cell_type": "code",
      "source": [
        "height = input(\"키를 입력하세요 : \")\n",
        "\n",
        "height = float(height)\n",
        "print(height / 100)"
      ],
      "metadata": {
        "colab": {
          "base_uri": "https://localhost:8080/"
        },
        "id": "7CuGK2iRZD0T",
        "outputId": "d547e111-b0e2-4fd6-a543-f74bbf9a1591"
      },
      "execution_count": 7,
      "outputs": [
        {
          "output_type": "stream",
          "name": "stdout",
          "text": [
            "키를 입력하세요 : 175.5\n",
            "1.755\n"
          ]
        }
      ]
    },
    {
      "cell_type": "code",
      "source": [
        "for i in range(1, 10):\n",
        "  print(i, end=' ')"
      ],
      "metadata": {
        "colab": {
          "base_uri": "https://localhost:8080/"
        },
        "id": "DZ5XYBdbZkO7",
        "outputId": "85c2c1e0-6fff-47ae-ce67-c251a6843531"
      },
      "execution_count": 9,
      "outputs": [
        {
          "output_type": "stream",
          "name": "stdout",
          "text": [
            "1 2 3 4 5 6 7 8 9 "
          ]
        }
      ]
    },
    {
      "cell_type": "code",
      "source": [
        "print(\"===간단한 계산기===\")\n",
        "\n",
        "num1 = float(input(\"첫 번째 숫자를 입력하세요 : \"))\n",
        "num2 = float(input(\"두 번째 숫자를 입력하세요 : \"))\n",
        "\n",
        "print(f\"{num1} + {num2} = {num1 + num2}\")\n",
        "print(f\"{num1} - {num2} = {num1 - num2}\")\n",
        "print(f\"{num1} * {num2} = {num1 * num2}\")\n",
        "print(f\"{num1} / {num2} = {num1 / num2}\")"
      ],
      "metadata": {
        "colab": {
          "base_uri": "https://localhost:8080/"
        },
        "id": "fqb2Tn5dZ4-T",
        "outputId": "b74f1a5d-65b0-4313-861e-842e2d3804aa"
      },
      "execution_count": 10,
      "outputs": [
        {
          "output_type": "stream",
          "name": "stdout",
          "text": [
            "===간단한 계산기===\n",
            "첫 번째 숫자를 입력하세요 : 6\n",
            "두 번째 숫자를 입력하세요 : 9\n",
            "6.0 + 9.0 = 15.0\n",
            "6.0 - 9.0 = -3.0\n",
            "6.0 * 9.0 = 54.0\n",
            "6.0 / 9.0 = 0.6666666666666666\n"
          ]
        }
      ]
    }
  ]
}
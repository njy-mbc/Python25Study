{
  "nbformat": 4,
  "nbformat_minor": 0,
  "metadata": {
    "colab": {
      "provenance": [],
      "authorship_tag": "ABX9TyM2myePg1CbF+4/yrcZ42h2",
      "include_colab_link": true
    },
    "kernelspec": {
      "name": "python3",
      "display_name": "Python 3"
    },
    "language_info": {
      "name": "python"
    }
  },
  "cells": [
    {
      "cell_type": "markdown",
      "metadata": {
        "id": "view-in-github",
        "colab_type": "text"
      },
      "source": [
        "<a href=\"https://colab.research.google.com/github/njy-mbc/Python25Study/blob/main/%ED%95%A8%EC%88%98.ipynb\" target=\"_parent\"><img src=\"https://colab.research.google.com/assets/colab-badge.svg\" alt=\"Open In Colab\"/></a>"
      ]
    },
    {
      "cell_type": "code",
      "execution_count": 6,
      "metadata": {
        "colab": {
          "base_uri": "https://localhost:8080/"
        },
        "id": "zHG6H-0M3VZz",
        "outputId": "ca6730fe-df7e-4621-84a0-66b6a3119a99"
      },
      "outputs": [
        {
          "output_type": "stream",
          "name": "stdout",
          "text": [
            "7\n"
          ]
        }
      ],
      "source": [
        "# 함수\n",
        "\n",
        "def add(a, b):\n",
        "  return a + b\n",
        "\n",
        "num1 = 3\n",
        "num2 = 4\n",
        "\n",
        "print(int(add(num1, num2)))"
      ]
    },
    {
      "cell_type": "code",
      "source": [
        "def say():\n",
        "  return 'Hi'\n",
        "\n",
        "a = say()\n",
        "\n",
        "print(a)"
      ],
      "metadata": {
        "colab": {
          "base_uri": "https://localhost:8080/"
        },
        "id": "ZjHbndRL4PLm",
        "outputId": "fecdda66-afb9-4e07-9cc8-685ffb5d9da1"
      },
      "execution_count": 8,
      "outputs": [
        {
          "output_type": "stream",
          "name": "stdout",
          "text": [
            "Hi\n"
          ]
        }
      ]
    },
    {
      "cell_type": "code",
      "source": [
        "def sub(a, b):\n",
        "  return a - b\n",
        "\n",
        "result = sub(7, 3)\n",
        "print(result)"
      ],
      "metadata": {
        "colab": {
          "base_uri": "https://localhost:8080/"
        },
        "id": "LaUt2pc246TE",
        "outputId": "b5fed341-bf37-460b-ed04-973c439d5270"
      },
      "execution_count": 9,
      "outputs": [
        {
          "output_type": "stream",
          "name": "stdout",
          "text": [
            "4\n"
          ]
        }
      ]
    },
    {
      "cell_type": "code",
      "source": [
        "def print_many(*args):\n",
        "  result = 0\n",
        "  for i in args:\n",
        "    print(i)\n",
        "\n",
        "list = range(1, 10)\n",
        "\n",
        "print_many(list)"
      ],
      "metadata": {
        "colab": {
          "base_uri": "https://localhost:8080/"
        },
        "id": "EWQEV88z5onl",
        "outputId": "d7424b66-c056-4087-dad7-e0148adb199f"
      },
      "execution_count": 12,
      "outputs": [
        {
          "output_type": "stream",
          "name": "stdout",
          "text": [
            "range(1, 10)\n"
          ]
        }
      ]
    },
    {
      "cell_type": "code",
      "source": [
        "def add_mul(choice, *args):\n",
        "  if choice == \"add\":\n",
        "    result = 0\n",
        "    for i in args:\n",
        "      result += i\n",
        "  elif choice == \"mul\":\n",
        "    result = 1\n",
        "    for i in args:\n",
        "      result *= i\n",
        "  return result\n",
        "\n",
        "result = add_mul('add', 1,2,3,4,5)\n",
        "print(result)\n",
        "\n",
        "result = add_mul('mul', 1,2,3,4,5)\n",
        "print(result)"
      ],
      "metadata": {
        "colab": {
          "base_uri": "https://localhost:8080/"
        },
        "id": "-UdcHOk6TnRW",
        "outputId": "910c5417-7fb5-4d63-f47c-29fa7b7b6d3a"
      },
      "execution_count": 15,
      "outputs": [
        {
          "output_type": "stream",
          "name": "stdout",
          "text": [
            "15\n",
            "120\n"
          ]
        }
      ]
    },
    {
      "cell_type": "code",
      "source": [
        "def print_kwargs(**kwargs):\n",
        "  print(kwargs)\n",
        "\n",
        "print_kwargs(a=1)\n",
        "\n",
        "print_kwargs(name = 'foo', age = 3)\n",
        "print_kwargs(name = '홍길동', age = 25, city = '서울', job = '개발자')"
      ],
      "metadata": {
        "colab": {
          "base_uri": "https://localhost:8080/"
        },
        "id": "7Fsp8G_qUL6t",
        "outputId": "0948eef7-f2f5-4fe0-bdc4-83ff38c7e45e"
      },
      "execution_count": 18,
      "outputs": [
        {
          "output_type": "stream",
          "name": "stdout",
          "text": [
            "{'a': 1}\n",
            "{'name': 'foo', 'age': 3}\n",
            "{'name': '홍길동', 'age': 25, 'city': '서울', 'job': '개발자'}\n"
          ]
        }
      ]
    },
    {
      "cell_type": "code",
      "source": [
        "def create_profile(**info):\n",
        "  print(\"===프로필 정보===\")\n",
        "  for key, value in info.items():\n",
        "    print(f\"{key}: {value}\")\n",
        "\n",
        "create_profile(이름='김철수', 나이=30, 직업='프로그래머', 취미='독서')"
      ],
      "metadata": {
        "colab": {
          "base_uri": "https://localhost:8080/"
        },
        "id": "8O4FS9J7Uqpe",
        "outputId": "455ac930-e140-4309-9a47-da378020bc7e"
      },
      "execution_count": 20,
      "outputs": [
        {
          "output_type": "stream",
          "name": "stdout",
          "text": [
            "===프로필 정보===\n",
            "이름: 김철수\n",
            "나이: 30\n",
            "직업: 프로그래머\n",
            "취미: 독서\n"
          ]
        }
      ]
    },
    {
      "cell_type": "code",
      "source": [
        "def say_myself(name, age, man=True):\n",
        "  print(\"나의 이름은 %s 입니다\" % name)\n",
        "  print(\"나이는 %d살입니다.\" % age)\n",
        "  if man:\n",
        "    print(\"남자입니다\")\n",
        "  else:\n",
        "    print(\"여자입니다\")\n",
        "\n",
        "say_myself(\"박응용\", 27)\n",
        "say_myself(\"박응용\", 29, False)"
      ],
      "metadata": {
        "colab": {
          "base_uri": "https://localhost:8080/"
        },
        "id": "3m7z0JH7V_yt",
        "outputId": "30141cbc-cdc9-403d-d7f8-576148a7fce9"
      },
      "execution_count": 24,
      "outputs": [
        {
          "output_type": "stream",
          "name": "stdout",
          "text": [
            "나의 이름은 박응용 입니다\n",
            "나이는 27살입니다.\n",
            "남자입니다\n",
            "나의 이름은 박응용 입니다\n",
            "나이는 29살입니다.\n",
            "여자입니다\n"
          ]
        }
      ]
    },
    {
      "cell_type": "code",
      "source": [
        "def add(a,b):\n",
        "  \"\"\"\n",
        "    두 숫자를 더하는 함수\n",
        "\n",
        "    Parameters:\n",
        "    a (int, float): 첫 번째 숫자\n",
        "    b (int, float): 두 번째 숫자\n",
        "\n",
        "    Returns:\n",
        "    int, float: 두 숫자의 합\n",
        "  \"\"\"\n",
        "  return a + b\n",
        "\n",
        "print(add.__doc__)"
      ],
      "metadata": {
        "colab": {
          "base_uri": "https://localhost:8080/"
        },
        "id": "3WJOa4iCW_Md",
        "outputId": "5ed31051-b4d5-491e-f763-2af567257396"
      },
      "execution_count": 25,
      "outputs": [
        {
          "output_type": "stream",
          "name": "stdout",
          "text": [
            "\n",
            "    두 숫자를 더하는 함수\n",
            "\n",
            "    Parameters:\n",
            "    a (int, float): 첫 번째 숫자\n",
            "    b (int, float): 두 번째 숫자\n",
            "\n",
            "    Returns:\n",
            "    int, float: 두 숫자의 합\n",
            "  \n"
          ]
        }
      ]
    }
  ]
}
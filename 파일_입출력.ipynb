{
  "nbformat": 4,
  "nbformat_minor": 0,
  "metadata": {
    "colab": {
      "provenance": [],
      "authorship_tag": "ABX9TyMUOJXH3ylvtFIJHMtUjgfW",
      "include_colab_link": true
    },
    "kernelspec": {
      "name": "python3",
      "display_name": "Python 3"
    },
    "language_info": {
      "name": "python"
    }
  },
  "cells": [
    {
      "cell_type": "markdown",
      "metadata": {
        "id": "view-in-github",
        "colab_type": "text"
      },
      "source": [
        "<a href=\"https://colab.research.google.com/github/njy-mbc/Python25Study/blob/main/%ED%8C%8C%EC%9D%BC_%EC%9E%85%EC%B6%9C%EB%A0%A5.ipynb\" target=\"_parent\"><img src=\"https://colab.research.google.com/assets/colab-badge.svg\" alt=\"Open In Colab\"/></a>"
      ]
    },
    {
      "cell_type": "code",
      "execution_count": 10,
      "metadata": {
        "id": "HOUNNJCxbpzg"
      },
      "outputs": [],
      "source": [
        "# 파일 입출력\n",
        "\n",
        "import os\n",
        "\n",
        "file_path = '/content/sample_data/test.txt'\n",
        "\n",
        "f = open(file_path, 'w')\n",
        "\n",
        "for i in range(0, 10):\n",
        "  data = f\"{i + 1}번째 줄입니다\\n\"\n",
        "  f.write(data)\n",
        "\n",
        "f.close()"
      ]
    },
    {
      "cell_type": "code",
      "source": [
        "file_path = '/content/sample_data/test.txt'\n",
        "\n",
        "f = open(file_path)\n",
        "\n",
        "line = f.readline()\n",
        "\n",
        "print(line)\n",
        "\n",
        "f.close()"
      ],
      "metadata": {
        "colab": {
          "base_uri": "https://localhost:8080/"
        },
        "id": "2JyGVbATdJ6i",
        "outputId": "d0de503e-d63d-45b7-abd1-05ab062a92ed"
      },
      "execution_count": 13,
      "outputs": [
        {
          "output_type": "stream",
          "name": "stdout",
          "text": [
            "1번째 줄입니다\n",
            "\n"
          ]
        }
      ]
    },
    {
      "cell_type": "code",
      "source": [
        "file_path = '/content/sample_data/test.txt'\n",
        "\n",
        "f = open(file_path)\n",
        "\n",
        "while True:\n",
        "  line = f.readline()\n",
        "  if not line : break\n",
        "  print(line)\n",
        "\n",
        "f.close()"
      ],
      "metadata": {
        "colab": {
          "base_uri": "https://localhost:8080/"
        },
        "id": "6dOTMNTmddrE",
        "outputId": "5181185c-f0ef-4e82-ca89-cdd8cddcae00"
      },
      "execution_count": 14,
      "outputs": [
        {
          "output_type": "stream",
          "name": "stdout",
          "text": [
            "1번째 줄입니다\n",
            "\n",
            "2번째 줄입니다\n",
            "\n",
            "3번째 줄입니다\n",
            "\n",
            "4번째 줄입니다\n",
            "\n",
            "5번째 줄입니다\n",
            "\n",
            "6번째 줄입니다\n",
            "\n",
            "7번째 줄입니다\n",
            "\n",
            "8번째 줄입니다\n",
            "\n",
            "9번째 줄입니다\n",
            "\n",
            "10번째 줄입니다\n",
            "\n"
          ]
        }
      ]
    },
    {
      "cell_type": "code",
      "source": [
        "file_path = '/content/sample_data/test.txt'\n",
        "\n",
        "f = open(file_path)\n",
        "lines = f.readlines()\n",
        "\n",
        "for line in lines:\n",
        "  print(line)\n",
        "\n",
        "for line in lines:\n",
        "  line = line.strip()\n",
        "  print(line)\n",
        "\n",
        "f.close()"
      ],
      "metadata": {
        "colab": {
          "base_uri": "https://localhost:8080/"
        },
        "id": "gb2Uv7D9d2OD",
        "outputId": "2ff043c9-7b18-4b28-9e0d-fdc4dd1c243e"
      },
      "execution_count": 16,
      "outputs": [
        {
          "output_type": "stream",
          "name": "stdout",
          "text": [
            "1번째 줄입니다\n",
            "\n",
            "2번째 줄입니다\n",
            "\n",
            "3번째 줄입니다\n",
            "\n",
            "4번째 줄입니다\n",
            "\n",
            "5번째 줄입니다\n",
            "\n",
            "6번째 줄입니다\n",
            "\n",
            "7번째 줄입니다\n",
            "\n",
            "8번째 줄입니다\n",
            "\n",
            "9번째 줄입니다\n",
            "\n",
            "10번째 줄입니다\n",
            "\n",
            "1번째 줄입니다\n",
            "2번째 줄입니다\n",
            "3번째 줄입니다\n",
            "4번째 줄입니다\n",
            "5번째 줄입니다\n",
            "6번째 줄입니다\n",
            "7번째 줄입니다\n",
            "8번째 줄입니다\n",
            "9번째 줄입니다\n",
            "10번째 줄입니다\n"
          ]
        }
      ]
    },
    {
      "cell_type": "code",
      "source": [
        "file_path = '/content/sample_data/test.txt'\n",
        "\n",
        "f = open(file_path)\n",
        "data = f.read()\n",
        "\n",
        "print(data)\n",
        "f.close()"
      ],
      "metadata": {
        "colab": {
          "base_uri": "https://localhost:8080/"
        },
        "id": "9QMa0sJReIYr",
        "outputId": "f844b857-0877-4e13-bfcc-d8d611638e9d"
      },
      "execution_count": 17,
      "outputs": [
        {
          "output_type": "stream",
          "name": "stdout",
          "text": [
            "1번째 줄입니다\n",
            "2번째 줄입니다\n",
            "3번째 줄입니다\n",
            "4번째 줄입니다\n",
            "5번째 줄입니다\n",
            "6번째 줄입니다\n",
            "7번째 줄입니다\n",
            "8번째 줄입니다\n",
            "9번째 줄입니다\n",
            "10번째 줄입니다\n",
            "\n"
          ]
        }
      ]
    },
    {
      "cell_type": "code",
      "source": [
        "file_path = '/content/sample_data/test.txt'\n",
        "\n",
        "f = open(file_path, 'a')\n",
        "for i in range(11, 20):\n",
        "  data = f\"{i}번째 줄입니다\\n\"\n",
        "  f.write(data)\n",
        "\n",
        "f.close()"
      ],
      "metadata": {
        "id": "LHazdU27edVD"
      },
      "execution_count": 18,
      "outputs": []
    },
    {
      "cell_type": "code",
      "source": [
        "file_path = '/content/sample_data/test.txt'\n",
        "\n",
        "with open(file_path, 'r', encoding=\"utf-8\") as f:\n",
        "  data = f.read()\n",
        "  print(data)"
      ],
      "metadata": {
        "colab": {
          "base_uri": "https://localhost:8080/"
        },
        "id": "qOGLgjasfD_R",
        "outputId": "bf78a50d-18c1-47d2-a19a-996f196abd2e"
      },
      "execution_count": 20,
      "outputs": [
        {
          "output_type": "stream",
          "name": "stdout",
          "text": [
            "1번째 줄입니다\n",
            "2번째 줄입니다\n",
            "3번째 줄입니다\n",
            "4번째 줄입니다\n",
            "5번째 줄입니다\n",
            "6번째 줄입니다\n",
            "7번째 줄입니다\n",
            "8번째 줄입니다\n",
            "9번째 줄입니다\n",
            "10번째 줄입니다\n",
            "11번째 줄입니다\n",
            "12번째 줄입니다\n",
            "13번째 줄입니다\n",
            "14번째 줄입니다\n",
            "15번째 줄입니다\n",
            "16번째 줄입니다\n",
            "17번째 줄입니다\n",
            "18번째 줄입니다\n",
            "19번째 줄입니다\n",
            "\n"
          ]
        }
      ]
    }
  ]
}
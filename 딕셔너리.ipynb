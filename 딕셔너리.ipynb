{
  "nbformat": 4,
  "nbformat_minor": 0,
  "metadata": {
    "colab": {
      "provenance": [],
      "authorship_tag": "ABX9TyOPSCaVXOD9qNYgMVIWWvx3",
      "include_colab_link": true
    },
    "kernelspec": {
      "name": "python3",
      "display_name": "Python 3"
    },
    "language_info": {
      "name": "python"
    }
  },
  "cells": [
    {
      "cell_type": "markdown",
      "metadata": {
        "id": "view-in-github",
        "colab_type": "text"
      },
      "source": [
        "<a href=\"https://colab.research.google.com/github/njy-mbc/Python25Study/blob/main/%EB%94%95%EC%85%94%EB%84%88%EB%A6%AC.ipynb\" target=\"_parent\"><img src=\"https://colab.research.google.com/assets/colab-badge.svg\" alt=\"Open In Colab\"/></a>"
      ]
    },
    {
      "cell_type": "code",
      "execution_count": 1,
      "metadata": {
        "colab": {
          "base_uri": "https://localhost:8080/"
        },
        "id": "oSAGquQpz0s6",
        "outputId": "5e32b6a3-96e3-4dcc-8840-498d9f067a02"
      },
      "outputs": [
        {
          "output_type": "execute_result",
          "data": {
            "text/plain": [
              "{1: 'hi'}"
            ]
          },
          "metadata": {},
          "execution_count": 1
        }
      ],
      "source": [
        "  # 딕셔너리\n",
        "  a = {1: 'hi'}\n",
        "  a"
      ]
    },
    {
      "cell_type": "code",
      "source": [
        "# 딕셔너리 쌍 추가, 쌍 삭제\n",
        "a = {1: 'a'}\n",
        "a[2] = 'b'\n",
        "a['name'] = 'pey'\n",
        "a[3] = [1,2,3]\n",
        "print(a)\n",
        "\n",
        "del a[1]\n",
        "print(a)\n",
        "\n",
        "del a[3]\n",
        "print(a)\n",
        "\n",
        "# 에러\n",
        "del a[5]\n",
        "print(a)"
      ],
      "metadata": {
        "colab": {
          "base_uri": "https://localhost:8080/",
          "height": 257
        },
        "id": "IcC_MrvQ1EsA",
        "outputId": "e453f70d-1c02-4d2f-9c4b-5dcdda3ca9e7"
      },
      "execution_count": 8,
      "outputs": [
        {
          "output_type": "stream",
          "name": "stdout",
          "text": [
            "{1: 'a', 2: 'b', 'name': 'pey', 3: [1, 2, 3]}\n",
            "{2: 'b', 'name': 'pey', 3: [1, 2, 3]}\n",
            "{2: 'b', 'name': 'pey'}\n"
          ]
        },
        {
          "output_type": "error",
          "ename": "KeyError",
          "evalue": "5",
          "traceback": [
            "\u001b[0;31m---------------------------------------------------------------------------\u001b[0m",
            "\u001b[0;31mKeyError\u001b[0m                                  Traceback (most recent call last)",
            "\u001b[0;32m/tmp/ipython-input-3701765992.py\u001b[0m in \u001b[0;36m<cell line: 0>\u001b[0;34m()\u001b[0m\n\u001b[1;32m     12\u001b[0m \u001b[0mprint\u001b[0m\u001b[0;34m(\u001b[0m\u001b[0ma\u001b[0m\u001b[0;34m)\u001b[0m\u001b[0;34m\u001b[0m\u001b[0;34m\u001b[0m\u001b[0m\n\u001b[1;32m     13\u001b[0m \u001b[0;34m\u001b[0m\u001b[0m\n\u001b[0;32m---> 14\u001b[0;31m \u001b[0;32mdel\u001b[0m \u001b[0ma\u001b[0m\u001b[0;34m[\u001b[0m\u001b[0;36m5\u001b[0m\u001b[0;34m]\u001b[0m\u001b[0;34m\u001b[0m\u001b[0;34m\u001b[0m\u001b[0m\n\u001b[0m\u001b[1;32m     15\u001b[0m \u001b[0mprint\u001b[0m\u001b[0;34m(\u001b[0m\u001b[0ma\u001b[0m\u001b[0;34m)\u001b[0m\u001b[0;34m\u001b[0m\u001b[0;34m\u001b[0m\u001b[0m\n",
            "\u001b[0;31mKeyError\u001b[0m: 5"
          ]
        }
      ]
    },
    {
      "cell_type": "code",
      "source": [
        "# key로 value 조회\n",
        "\n",
        "grade = {'pey':10, 'julliet':99}\n",
        "print(grade['pey'])\n",
        "print(grade['julliet'])\n",
        "\n",
        "dic = {'name':'pey', 'phone':'010-9999-1234', 'birth':'1118'}\n",
        "\n",
        "print(dic['name'])\n",
        "print(dic['phone'])\n",
        "print(dic['birth'])\n",
        "\n",
        "# 튜플은 key로 사용 가능\n",
        "tup = (1,2,3,4)\n",
        "dic2 = {tup:'tuple!'}\n",
        "\n",
        "print(dic2[tup])"
      ],
      "metadata": {
        "colab": {
          "base_uri": "https://localhost:8080/"
        },
        "id": "SR3dFZm11wuY",
        "outputId": "dc03cc8e-abe7-4b9f-c0ed-f9867a22cdd5"
      },
      "execution_count": 13,
      "outputs": [
        {
          "output_type": "stream",
          "name": "stdout",
          "text": [
            "10\n",
            "99\n",
            "pey\n",
            "010-9999-1234\n",
            "1118\n",
            "tuple!\n"
          ]
        }
      ]
    },
    {
      "cell_type": "code",
      "source": [
        "# 딕셔너리 함수\n",
        "\n",
        "# key 리스트\n",
        "a = {'name':'pey', 'phone':'010-9999-1234', 'birth':'1118'}\n",
        "print(a.keys())\n",
        "\n",
        "for k in a.keys():\n",
        "  print(k)\n",
        "\n",
        "# value 리스트\n",
        "print(a.values())\n",
        "\n",
        "# key, value 쌍 얻기 - items\n",
        "print(a.items())\n",
        "\n",
        "# key, value 쌍 모두 지우기 - clear\n",
        "a.clear()\n",
        "print(a)\n",
        "\n",
        "# key로 value 얻기 - get\n",
        "a = {'name':'pey', 'phone':'010-9999-1234', 'birth':'1118'}\n",
        "print(a.get('name'))\n",
        "print(a.get('phone'))\n",
        "\n",
        "print(a.get('nokey'))\n",
        "print(a.get('nokey', '정보없음'))\n",
        "\n",
        "# key 확인 - in\n",
        "a = {'name':'pey', 'phone':'010-9999-1234', 'birth':'1118'}\n",
        "print('name' in a)\n",
        "print('email' in a)\n",
        "\n",
        "# key로 value 얻기 - pop\n",
        "phone = a.pop('phone')\n",
        "print(phone)\n",
        "print(a)"
      ],
      "metadata": {
        "colab": {
          "base_uri": "https://localhost:8080/"
        },
        "id": "fuZnimkb31Tp",
        "outputId": "637d797e-bc26-4cf2-a776-116fdbc83690"
      },
      "execution_count": 31,
      "outputs": [
        {
          "output_type": "stream",
          "name": "stdout",
          "text": [
            "dict_keys(['name', 'phone', 'birth'])\n",
            "name\n",
            "phone\n",
            "birth\n",
            "dict_values(['pey', '010-9999-1234', '1118'])\n",
            "dict_items([('name', 'pey'), ('phone', '010-9999-1234'), ('birth', '1118')])\n",
            "{}\n",
            "pey\n",
            "010-9999-1234\n",
            "None\n",
            "정보없음\n",
            "True\n",
            "False\n",
            "010-9999-1234\n",
            "{'name': 'pey', 'birth': '1118'}\n"
          ]
        }
      ]
    }
  ]
}